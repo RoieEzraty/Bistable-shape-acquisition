{
 "cells": [
  {
   "cell_type": "code",
   "execution_count": null,
   "id": "db0f9d11",
   "metadata": {},
   "outputs": [],
   "source": [
    "import numpy as np\n",
    "import matplotlib.pyplot as plt\n",
    "import copy\n",
    "import importlib \n",
    "\n",
    "from VariablesClass import VariablesClass\n",
    "from SupervisorClass import  SupervisorClass\n",
    "from StateClass import StateClass\n",
    "import colors, plot_func, funcs_geometry, funcs_physical, funcs_ML"
   ]
  },
  {
   "cell_type": "code",
   "execution_count": null,
   "id": "90eed464",
   "metadata": {},
   "outputs": [],
   "source": [
    "# k_stiff = np.array([2, 1])\n",
    "# k_soft = np.array([1, 0.5])\n",
    "# thresh = np.array([40, 20])\n",
    "# theta_ss = np.array([30, 10])\n",
    "# init_buckle = np.array([-1, -1])\n",
    "# desired_buckle = np.array([1, -1])\n",
    "\n",
    "# k_stiff = np.array([4.2, 2.0, 1.0, 1.0])\n",
    "# k_soft = np.array([0.2, 0.5, 0.1, 0.4])\n",
    "# thresh = np.array([30, 25, 15, 10])\n",
    "# theta_ss = np.array([25, 15, 10, 5])\n",
    "# init_buckle = np.array([-1, 1, -1, -1])\n",
    "# desired_buckle = np.array([1, -1, -1, 1])\n",
    "\n",
    "# k_stiff = np.array([[4.2, 2.0, 1.0]])\n",
    "# k_soft = np.array([[0.2, 0.5, 0.1]])\n",
    "# thresh = np.array([[30, 25, 15]])\n",
    "# theta_ss = np.array([[5, 15, 10]])\n",
    "# init_buckle = np.array([[-1, -1, 1]])\n",
    "# desired_buckle = np.array([[1, 1, -1]])\n",
    "\n",
    "k_stiff = np.array([[1.0], [1.0]])\n",
    "k_soft = np.array([[1.0], [1.0]])\n",
    "thresh = np.array([[40], [20]])\n",
    "theta_ss = np.array([[0], [0]])\n",
    "init_buckle = np.array([[1], [1]])\n",
    "desired_buckle = np.array([[-1], [-1]])\n",
    "\n",
    "supress_prints = True\n",
    "\n",
    "# problem = 'tau'\n",
    "problem = 'Fy'\n",
    "\n",
    "L = 1"
   ]
  },
  {
   "cell_type": "code",
   "execution_count": null,
   "id": "1da0c504",
   "metadata": {},
   "outputs": [],
   "source": [
    "iterations = 86\n",
    "alpha = 0.001"
   ]
  },
  {
   "cell_type": "code",
   "execution_count": null,
   "id": "e2a652c7",
   "metadata": {},
   "outputs": [],
   "source": [
    "import VariablesClass\n",
    "importlib.reload(VariablesClass)\n",
    "from VariablesClass import VariablesClass\n",
    "\n",
    "Variabs = VariablesClass(k_stiff, k_soft, thresh, theta_ss, problem, L, supress_prints)\n",
    "Variabs.set_normalizations(k_stiff, k_soft, theta_ss)"
   ]
  },
  {
   "cell_type": "code",
   "execution_count": null,
   "id": "d51edfb7",
   "metadata": {},
   "outputs": [],
   "source": [
    "# from numpy.typing import NDArray\n",
    "\n",
    "# theta_vec = np.random.uniform(-90, 90, (iterations, Variabs.hinges))\n",
    "\n",
    "# theta_rads = np.deg2rad(theta_vec)\n",
    "# p0 = np.zeros((np.shape(theta_rads)[0], np.shape(theta_rads)[1], 2))  # origin\n",
    "# # p0 = np.array([0.0, 0.0])\n",
    "# # (2, hinges, iterations)\n",
    "# pos_vec = np.zeros((np.shape(theta_rads)[0], np.shape(theta_rads)[1], 2))\n",
    "# for i, thetas in enumerate(theta_rads):\n",
    "#     print('thetas ', np.rad2deg(thetas))\n",
    "#     for j, theta in enumerate(thetas):\n",
    "#         print('theta ', np.rad2deg((theta)))\n",
    "#         if j == 0:\n",
    "#             pos_prev = p0[0, 0, :]\n",
    "#         else:\n",
    "#             pos_prev = pos_vec[i, j-1, :]\n",
    "#         thetas_sum: float = np.sum(thetas[:j+1])\n",
    "#         print('sum ', np.rad2deg(thetas_sum))\n",
    "#         pos_vec[i, j, :] = pos_prev + L*np.array([-np.sin(thetas_sum), np.cos(thetas_sum)])\n",
    "\n",
    "# p1 = p0[0, :, :] + L*np.array([-np.sin(theta_rads[0, :]), np.cos(theta_rads[1, :])])\n",
    "# p2 = p1 + L*np.array([-np.sin(theta_rads[0, :]+theta_rads[1, :]), np.cos(theta_rads[0, :]+theta_rads[1, :])])\n",
    "# print(pos_vec[0,:,:])\n",
    "\n",
    "# print(p1)\n",
    "\n",
    "# plot_func.plot_arm(Supervisor.pos_vec[0,:,:], )"
   ]
  },
  {
   "cell_type": "code",
   "execution_count": null,
   "id": "f21e32ea",
   "metadata": {},
   "outputs": [],
   "source": [
    "importlib.reload(funcs_geometry)\n",
    "import SupervisorClass\n",
    "importlib.reload(SupervisorClass)\n",
    "from SupervisorClass import SupervisorClass\n",
    "\n",
    "Supervisor = SupervisorClass(desired_buckle, alpha)\n",
    "Supervisor.init_dataset(Variabs, iterations, problem)\n",
    "if problem == 'tau':\n",
    "    Supervisor.desired_tau(Variabs)\n",
    "elif problem == 'Fy':\n",
    "    Supervisor.desired_Fy(Variabs)"
   ]
  },
  {
   "cell_type": "code",
   "execution_count": null,
   "id": "93471aac",
   "metadata": {},
   "outputs": [],
   "source": [
    "theta1=0.5\n",
    "theta2=0.00001\n",
    "tau1 = funcs_physical.tau_hinge(theta1, desired_buckle[0], theta_ss[0], k_stiff[0], k_soft[0])\n",
    "tau2 = funcs_physical.tau_hinge(theta2, desired_buckle[1], theta_ss[1], k_stiff[1], k_soft[1])\n",
    "\n",
    "funcs_physical.Fy([theta1, theta2], [tau1, tau2])"
   ]
  },
  {
   "cell_type": "code",
   "execution_count": null,
   "id": "861f27e6",
   "metadata": {},
   "outputs": [],
   "source": [
    "importlib.reload(plot_func)\n",
    "importlib.reload(funcs_physical)\n",
    "\n",
    "for i, thetas in enumerate(Supervisor.theta_in_t):\n",
    "    if i==12:\n",
    "        print('thetas ', thetas)\n",
    "\n",
    "i=2\n",
    "print('theta ', Supervisor.theta_in_t[i,:])\n",
    "print('desired tau ', Supervisor.desired_tau_in_t[i])\n",
    "print('position ', Supervisor.pos_in_t[i,:,:])\n",
    "print('desired Fy', Supervisor.desired_Fy_in_t[i])\n",
    "plot_func.plot_arm(Supervisor.pos_in_t[i,:,:], Supervisor.theta_in_t[i, :], L)\n",
    "\n",
    "i=9\n",
    "print('theta ', Supervisor.theta_in_t[i,:])\n",
    "print('desired tau ', Supervisor.desired_tau_in_t[i])\n",
    "print('position ', Supervisor.pos_in_t[i,:,:])\n",
    "print('desired Fy', Supervisor.desired_Fy_in_t[i])\n",
    "plot_func.plot_arm(Supervisor.pos_in_t[i,:,:], Supervisor.theta_in_t[i, :], L)\n"
   ]
  },
  {
   "cell_type": "code",
   "execution_count": null,
   "id": "57a6c14c",
   "metadata": {},
   "outputs": [],
   "source": [
    "import StateClass\n",
    "importlib.reload(StateClass)\n",
    "from StateClass import StateClass\n",
    "\n",
    "State = StateClass(Variabs, Supervisor, buckle=init_buckle)"
   ]
  },
  {
   "cell_type": "markdown",
   "id": "557943b8",
   "metadata": {},
   "source": [
    "## Loop"
   ]
  },
  {
   "cell_type": "markdown",
   "id": "c834b0c0",
   "metadata": {},
   "source": [
    "## Measure tau - single hinge"
   ]
  },
  {
   "cell_type": "code",
   "execution_count": null,
   "id": "e9ec9520",
   "metadata": {
    "scrolled": true
   },
   "outputs": [],
   "source": [
    "importlib.reload(funcs_geometry)\n",
    "importlib.reload(funcs_ML)\n",
    "\n",
    "if problem == 'tau':\n",
    "    theta_full, tau_full_init = measure_full_response(State.buckle, Variabs.theta_ss, Variabs.k_stiff, Variabs.k_soft)\n",
    "    theta_full, tau_full_desired  = measure_full_response(desired_buckle, Variabs.theta_ss, Variabs.k_stiff, Variabs.k_soft)\n",
    "\n",
    "for i in range(iterations):\n",
    "\n",
    "    ## Measure\n",
    "    if problem == 'tau':\n",
    "        Supervisor.set_theta(i)\n",
    "        State.calc_tau(Variabs, Supervisor.theta)\n",
    "    elif problem == 'Fy':\n",
    "        Supervisor.set_pos(Variabs, i)\n",
    "        State.calc_Fy(Variabs, Supervisor.thetas)\n",
    "    \n",
    "    ## Loss\n",
    "    Supervisor.calc_loss(Variabs, State)\n",
    "\n",
    "    ## Update\n",
    "    Supervisor.calc_input_update(State, Supervisor, Variabs)\n",
    "    if problem == 'tau':\n",
    "        State.calc_tau(Variabs, Supervisor.input_update)\n",
    "    elif problem == 'Fy':\n",
    "        State.calc_Fy(Variabs, Supervisor.input_update)\n",
    "    ## Material evolution during Update\n",
    "    State.evolve_material(Supervisor, Variabs)\n",
    "\n",
    "    if problem == 'tau':\n",
    "        theta_full, tau_full_final = measure_full_response(State.buckle, Variabs.theta_ss, Variabs.k_stiff, Variabs.k_soft)\n",
    "        # plot_func.plot_response(theta_full, tau_full_init, tau_full_final, tau_full_desired, theta_range=[-90, 90],\n",
    "        #                         just_init=False)\n",
    "\n",
    "Supervisor.loss_MSE_norm_in_t = Supervisor.loss_MSE_in_t / (Variabs.k_bar * Variabs.theta_bar)"
   ]
  },
  {
   "cell_type": "code",
   "execution_count": null,
   "id": "48676787",
   "metadata": {},
   "outputs": [],
   "source": [
    "Supervisor.theta_vec"
   ]
  },
  {
   "cell_type": "code",
   "execution_count": null,
   "id": "37cec400",
   "metadata": {},
   "outputs": [],
   "source": [
    "if problem == 'tau':\n",
    "    importlib.reload(plot_func)\n",
    "\n",
    "    plot_func.importants(State.buckle_in_t, Supervisor.desired_buckle, \n",
    "                         Supervisor.loss_MSE_norm_in_t, Supervisor.input_update_in_t)\n",
    "\n",
    "    plot_func.plot_response(theta_full, tau_full_init, tau_full_desired, tau_full_desired, theta_range=[-90, 90], just_init=True)\n",
    "    plot_func.plot_response(theta_full, tau_full_init, tau_full_desired, tau_full_desired, theta_range=[-90, 90], just_init=False)"
   ]
  },
  {
   "cell_type": "code",
   "execution_count": null,
   "id": "c90bc143",
   "metadata": {},
   "outputs": [],
   "source": [
    "tau_full_init"
   ]
  },
  {
   "cell_type": "markdown",
   "id": "4475df3c",
   "metadata": {},
   "source": [
    "## Measure Fy - double hinge"
   ]
  },
  {
   "cell_type": "code",
   "execution_count": null,
   "id": "341f5582",
   "metadata": {},
   "outputs": [],
   "source": [
    "if problem == 'Fy':\n",
    "    L=1\n",
    "    x = -0.28\n",
    "    y = 1.8\n",
    "    theta1, theta2 = theta_from_xy(x, y, -init_buckle[0])\n",
    "    print(np.degrees(theta1), np.degrees(theta2))\n",
    "    tau1 = tau_k(theta1, [1, 1], Variabs)[0]\n",
    "    tau2 = tau_k(theta2, [1, 1], Variabs)[1]\n",
    "    print(tau1, tau2)\n",
    "    Fy1 = Fy(theta1, theta2, tau1, tau2)\n",
    "    print(Fy1)\n",
    "\n",
    "    # Reachability check\n",
    "    reach_min, reach_max = 0, 2*L\n",
    "    r = np.hypot(x, y)\n",
    "    if r < reach_min - 1e-9 or r > reach_max + 1e-9:\n",
    "        print(\"WARNING: Target point is outside reachable workspace. The diagram uses clipped IK (c2 clipped).\")\n",
    "\n",
    "    plot_arm(x, y, theta1, theta2)"
   ]
  },
  {
   "cell_type": "markdown",
   "id": "e2a7f429",
   "metadata": {},
   "source": [
    "## Fy = tau1*sin(theta1)"
   ]
  }
 ],
 "metadata": {
  "kernelspec": {
   "display_name": "Python 3 (ipykernel)",
   "language": "python",
   "name": "python3"
  },
  "language_info": {
   "codemirror_mode": {
    "name": "ipython",
    "version": 3
   },
   "file_extension": ".py",
   "mimetype": "text/x-python",
   "name": "python",
   "nbconvert_exporter": "python",
   "pygments_lexer": "ipython3",
   "version": "3.9.13"
  }
 },
 "nbformat": 4,
 "nbformat_minor": 5
}
